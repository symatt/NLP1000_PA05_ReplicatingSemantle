{
 "cells": [
  {
   "cell_type": "markdown",
   "metadata": {
    "id": "3i3m9JjeM5U5"
   },
   "source": [
    "# **Programming Assessment \\#5**\n",
    "\n",
    "Names: Go, Wilfred | Sibug, Jordan | Sy, James Matthew\n",
    "\n",
    "More information on the assessment is found in our Canvas course. Link: https://dlsu.instructure.com/courses/93383/assignments/841058/"
   ]
  },
  {
   "cell_type": "markdown",
   "metadata": {
    "id": "HxtmCAZwNoeU"
   },
   "source": [
    "# **Load Pre-trained Embeddings**\n",
    "\n",
    "*While you don't have to separate your code into blocks, it might be easier if you separated loading / downloading your data from the main part of your solution. Consider placing all loading of data into the code block below.*"
   ]
  },
  {
   "cell_type": "code",
   "execution_count": 1,
   "metadata": {
    "id": "CbvxU2oTM4IV"
   },
   "outputs": [],
   "source": [
    "# # need to only run once to create the word2vec file\n",
    "# from gensim.scripts.glove2word2vec import glove2word2vec\n",
    "# # https://nlp.stanford.edu/projects/glove/\n",
    "# # download the glove.6B.zip and use the glove.6B.200d.txt file\n",
    "# glove_input_file = 'glove.6B.200d.txt'\n",
    "# word2vec_output_file = 'glove.6B.200d.txt.word2vec'\n",
    "# glove2word2vec(glove_input_file, word2vec_output_file)"
   ]
  },
  {
   "cell_type": "code",
   "execution_count": 2,
   "metadata": {},
   "outputs": [],
   "source": [
    "from gensim.models import KeyedVectors\n",
    "# load the Stanford GloVe model\n",
    "filename = 'glove.6B.200d.txt.word2vec'\n",
    "model = KeyedVectors.load_word2vec_format(filename, binary=False)"
   ]
  },
  {
   "cell_type": "code",
   "execution_count": 13,
   "metadata": {},
   "outputs": [],
   "source": [
    "import random\n",
    "import regex as re\n",
    "import numpy as np\n",
    "from gensim.models import Word2Vec\n",
    "pattern = r'([\\@\\.\\'\\\"\\-\\_\\+\\:\\s0-9])+'\n",
    "randomIndex = random.randrange(0, len(model))\n",
    "randomWord = model.index_to_key[randomIndex]\n",
    "# print('Randomly selected word: ' + randomWord)\n",
    "notWord = re.search(pattern, randomWord)\n",
    "# print(notWord)\n",
    "while notWord:\n",
    "    randomIndex = random.randrange(0, len(model))\n",
    "    randomWord = model.index_to_key[randomIndex]\n",
    "#     print('Randomly selected word: ' + randomWord)\n",
    "    notWord = re.search(pattern, randomWord)\n",
    "#     print(notWord)"
   ]
  },
  {
   "cell_type": "code",
   "execution_count": 4,
   "metadata": {},
   "outputs": [],
   "source": [
    "# cosine similarity\n",
    "def getCosineSimilarity(targetWord, inputWord):\n",
    "    return model.distance(targetWord, inputWord)"
   ]
  },
  {
   "cell_type": "code",
   "execution_count": 14,
   "metadata": {},
   "outputs": [],
   "source": [
    "# get all cosine similarities\n",
    "# -1 to +1 (opposite meaning for -1)\n",
    "similarities = model.cosine_similarities(model.vectors[randomIndex], model.vectors[:])\n",
    "sims = []\n",
    "for i in range(len(similarities)):\n",
    "    sims.append([model.index_to_key[i], similarities[i]])\n",
    "sims.sort(key=lambda x: x[1], reverse=True)"
   ]
  },
  {
   "cell_type": "markdown",
   "metadata": {
    "id": "r8YCZLi-N0uR"
   },
   "source": [
    "# **Your Implementation**\n",
    "\n",
    "*Again, you don't have to have everything in one block. Use the notebook according to your preferences with the goal of fulfilling the assessment in mind.*"
   ]
  },
  {
   "cell_type": "code",
   "execution_count": null,
   "metadata": {
    "id": "VqKjpUrkOSnC"
   },
   "outputs": [],
   "source": [
    "pattern = r'([\\@\\.\\'\\\"\\-\\_\\+\\:\\s0-9])+'\n",
    "randomIndex = random.randrange(0, len(model))\n",
    "randomWord = model.index_to_key[randomIndex]\n",
    "# print('Randomly selected word: ' + randomWord)\n",
    "notWord = re.search(pattern, randomWord)\n",
    "# print(notWord)\n",
    "while notWord:\n",
    "    randomIndex = random.randrange(0, len(model))\n",
    "    randomWord = model.index_to_key[randomIndex]\n",
    "#     print('Randomly selected word: ' + randomWord)\n",
    "    notWord = re.search(pattern, randomWord)\n",
    "#     print(notWord)\n",
    "# get all cosine similarities\n",
    "# -1 to +1 (opposite meaning for -1)\n",
    "similarities = model.cosine_similarities(model.vectors[randomIndex], model.vectors[:])\n",
    "sims = []\n",
    "for i in range(len(similarities)):\n",
    "    sims.append([model.index_to_key[i], similarities[i]])\n",
    "sims.sort(key=lambda x: x[1], reverse=True)\n",
    "print('Randomly selected word: ' + randomWord)\n",
    "print()\n",
    "print('Closest...')\n",
    "print('10th: ' + str(sims[9][0]) + ' ' + str(sims[9][1]))\n",
    "print('100th: ' + str(sims[99][0]) + ' ' + str(sims[99][1]))\n",
    "print('1000th: ' + str(sims[999][0]) + ' ' + str(sims[999][1]))\n",
    "print()\n",
    "# ask user for word\n",
    "guessed = False\n",
    "while (not guessed):\n",
    "    inputWord = input('Your guess: ').lower()\n",
    "    # get the similarity score\n",
    "    try :\n",
    "        model.get_vector(inputWord)\n",
    "        print('word: ' + str(model.similarity(randomWord, inputWord)))\n",
    "    except:\n",
    "        print('Word not recognized in resource.')\n",
    "    # print score\n",
    "    if inputWord == randomWord:\n",
    "        print('Great job on guessing the word!')\n",
    "        guessed = True\n",
    "\n"
   ]
  },
  {
   "cell_type": "markdown",
   "metadata": {
    "id": "h3smvUR6OXUa"
   },
   "source": [
    "# **Your Relfection / Takeaway / Analysis**\n",
    "\n",
    "*Kindly place the rest of your write up. More information is found in the Canvas write up.*"
   ]
  }
 ],
 "metadata": {
  "colab": {
   "name": "PA5_Replicating_Semantle.ipynb",
   "provenance": []
  },
  "kernelspec": {
   "display_name": "Python 3",
   "language": "python",
   "name": "python3"
  },
  "language_info": {
   "codemirror_mode": {
    "name": "ipython",
    "version": 3
   },
   "file_extension": ".py",
   "mimetype": "text/x-python",
   "name": "python",
   "nbconvert_exporter": "python",
   "pygments_lexer": "ipython3",
   "version": "3.8.8"
  }
 },
 "nbformat": 4,
 "nbformat_minor": 1
}
