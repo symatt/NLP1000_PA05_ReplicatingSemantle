{
  "nbformat": 4,
  "nbformat_minor": 0,
  "metadata": {
    "colab": {
      "name": "PA5_Replicating_Semantle.ipynb",
      "provenance": []
    },
    "kernelspec": {
      "name": "python3",
      "display_name": "Python 3"
    },
    "language_info": {
      "name": "python"
    }
  },
  "cells": [
    {
      "cell_type": "markdown",
      "metadata": {
        "id": "3i3m9JjeM5U5"
      },
      "source": [
        "# **Programming Assessment \\#5**\n",
        "\n",
        "Names: \\<please supply your names\\>\n",
        "\n",
        "More information on the assessment is found in our Canvas course. Link: https://dlsu.instructure.com/courses/93383/assignments/841058/"
      ]
    },
    {
      "cell_type": "markdown",
      "metadata": {
        "id": "HxtmCAZwNoeU"
      },
      "source": [
        "# **Load Pre-trained Embeddings**\n",
        "\n",
        "*While you don't have to separate your code into blocks, it might be easier if you separated loading / downloading your data from the main part of your solution. Consider placing all loading of data into the code block below.*"
      ]
    },
    {
      "cell_type": "code",
      "metadata": {
        "id": "CbvxU2oTM4IV"
      },
      "source": [
        ""
      ],
      "execution_count": null,
      "outputs": []
    },
    {
      "cell_type": "markdown",
      "metadata": {
        "id": "r8YCZLi-N0uR"
      },
      "source": [
        "# **Your Implementation**\n",
        "\n",
        "*Again, you don't have to have everything in one block. Use the notebook according to your preferences with the goal of fulfilling the assessment in mind.*"
      ]
    },
    {
      "cell_type": "code",
      "metadata": {
        "id": "VqKjpUrkOSnC"
      },
      "source": [
        ""
      ],
      "execution_count": null,
      "outputs": []
    },
    {
      "cell_type": "markdown",
      "metadata": {
        "id": "h3smvUR6OXUa"
      },
      "source": [
        "# **Your Relfection / Takeaway / Analysis**\n",
        "\n",
        "*Kindly place the rest of your write up. More information is found in the Canvas write up.*"
      ]
    }
  ]
}